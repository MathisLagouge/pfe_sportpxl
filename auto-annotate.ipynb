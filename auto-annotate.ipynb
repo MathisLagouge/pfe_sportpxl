{
 "cells": [
  {
   "cell_type": "code",
   "execution_count": null,
   "id": "8f796cce-7a5f-45a6-af52-e9c2cb3a097b",
   "metadata": {},
   "outputs": [],
   "source": [
    "from ultralytics import YOLO\n",
    "import numpy as np\n",
    "import os\n",
    "import polars as pl\n",
    "from ultralytics import settings\n",
    "import cv2\n",
    "import matplotlib.pyplot as plt\n",
    "from PIL import Image\n",
    "from IPython.display import display\n",
    "from ultralytics.utils.plotting import Annotator\n",
    "\n",
    "# Update a setting\n",
    "settings.update({'mlflow': True})\n",
    "\n",
    "model = YOLO(\"runs/detect/train4/weights/best.pt\")"
   ]
  },
  {
   "cell_type": "code",
   "execution_count": null,
   "id": "d379e5dd-db93-4c8e-a654-0f77bba74435",
   "metadata": {},
   "outputs": [],
   "source": [
    "from ultralytics.data.annotator import auto_annotate\n",
    "\n",
    "auto_annotate(data='ultralytics/assets', det_model='yolov8n.pt', sam_model='mobile_sam.pt')"
   ]
  }
 ],
 "metadata": {
  "kernelspec": {
   "display_name": "Python 3 (ipykernel)",
   "language": "python",
   "name": "python3"
  },
  "language_info": {
   "codemirror_mode": {
    "name": "ipython",
    "version": 3
   },
   "file_extension": ".py",
   "mimetype": "text/x-python",
   "name": "python",
   "nbconvert_exporter": "python",
   "pygments_lexer": "ipython3",
   "version": "3.11.6"
  }
 },
 "nbformat": 4,
 "nbformat_minor": 5
}
